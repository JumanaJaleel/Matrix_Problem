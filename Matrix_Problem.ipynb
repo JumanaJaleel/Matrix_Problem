{
 "cells": [
  {
   "cell_type": "code",
   "execution_count": 1,
   "id": "627f9a35",
   "metadata": {},
   "outputs": [
    {
     "name": "stdout",
     "output_type": "stream",
     "text": [
      "Enter the number of rows: 3\n",
      "Enter the number of columns: 3\n",
      "[[1, 3, 6], [2, 5, 8], [4, 7, 9]]\n"
     ]
    }
   ],
   "source": [
    "from numpy import *\n",
    "r=int(input(\"Enter the number of rows: \"))\n",
    "c=int(input(\"Enter the number of columns: \"))\n",
    "mat = [[0 for _ in range(c)] for _ in range(r)]\n",
    "for k in range(1,r):\n",
    "    mat[k][0]=mat[k-1][0]+2\n",
    "    \n",
    "for i in range(0,r):\n",
    "    \n",
    "    for j in range(1,c):\n",
    "        if i==r-1 and j==c-1:\n",
    "            mat[i][j]=r*c\n",
    "        else:\n",
    "            mat[i][j]=mat[i][j-1]+3\n",
    "mat[0][0]=1\n",
    "\n",
    "print(mat)"
   ]
  },
  {
   "cell_type": "code",
   "execution_count": null,
   "id": "d25aae7a",
   "metadata": {},
   "outputs": [],
   "source": []
  }
 ],
 "metadata": {
  "kernelspec": {
   "display_name": "Python 3",
   "language": "python",
   "name": "python3"
  },
  "language_info": {
   "codemirror_mode": {
    "name": "ipython",
    "version": 3
   },
   "file_extension": ".py",
   "mimetype": "text/x-python",
   "name": "python",
   "nbconvert_exporter": "python",
   "pygments_lexer": "ipython3",
   "version": "3.8.8"
  }
 },
 "nbformat": 4,
 "nbformat_minor": 5
}
